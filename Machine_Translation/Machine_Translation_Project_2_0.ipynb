{
  "cells": [
    {
      "cell_type": "markdown",
      "metadata": {
        "id": "view-in-github",
        "colab_type": "text"
      },
      "source": [
        "<a href=\"https://colab.research.google.com/github/kobeisfree94/Projects/blob/master/Deep_Learning/Natural_Language_Processing/Machine_Translation/Machine_Translation_Project_2_0.ipynb\" target=\"_parent\"><img src=\"https://colab.research.google.com/assets/colab-badge.svg\" alt=\"Open In Colab\"/></a>"
      ]
    },
    {
      "cell_type": "code",
      "execution_count": 1,
      "metadata": {
        "id": "SH7NmOVN_Zpk"
      },
      "outputs": [],
      "source": [
        "import string\n",
        "import re\n",
        "import numpy as np\n",
        "from numpy import array, argmax, random, take\n",
        "import pandas as pd\n",
        "import matplotlib.pyplot as plt\n",
        "import tensorflow as tf\n",
        "from tensorflow.keras.models import Sequential\n",
        "from tensorflow.keras.layers import Input, Dense, LSTM, Embedding, Masking\n",
        "from tensorflow.keras.preprocessing.text import Tokenizer\n",
        "from tensorflow.keras.preprocessing import sequence\n",
        "from tensorflow.keras.preprocessing.sequence import pad_sequences\n",
        "from tensorflow.keras.models import Model\n",
        "from tensorflow.keras import optimizers\n",
        "from tensorflow.keras.callbacks import EarlyStopping\n",
        "from sklearn.model_selection import train_test_split\n",
        "\n",
        "from tensorflow.keras.utils import to_categorical"
      ]
    },
    {
      "cell_type": "code",
      "execution_count": 2,
      "metadata": {
        "colab": {
          "base_uri": "https://localhost:8080/",
          "height": 244
        },
        "id": "I2HlY_wa9bJ8",
        "outputId": "1d9f8381-9b7b-4e38-808c-ee70fdaf7982"
      },
      "outputs": [
        {
          "output_type": "stream",
          "name": "stdout",
          "text": [
            "Drive already mounted at /content/drive; to attempt to forcibly remount, call drive.mount(\"/content/drive\", force_remount=True).\n"
          ]
        },
        {
          "output_type": "execute_result",
          "data": {
            "text/plain": [
              "    eng  kor                                             delete\n",
              "0   Go.   가.  CC-BY 2.0 (France) Attribution: tatoeba.org #2...\n",
              "1   Hi.  안녕.  CC-BY 2.0 (France) Attribution: tatoeba.org #5...\n",
              "2  Run!  뛰어!  CC-BY 2.0 (France) Attribution: tatoeba.org #9...\n",
              "3  Run.  뛰어.  CC-BY 2.0 (France) Attribution: tatoeba.org #4...\n",
              "4  Who?  누구?  CC-BY 2.0 (France) Attribution: tatoeba.org #2..."
            ],
            "text/html": [
              "\n",
              "  <div id=\"df-1bff70dc-1c29-4af2-8aee-20c94149f0ea\">\n",
              "    <div class=\"colab-df-container\">\n",
              "      <div>\n",
              "<style scoped>\n",
              "    .dataframe tbody tr th:only-of-type {\n",
              "        vertical-align: middle;\n",
              "    }\n",
              "\n",
              "    .dataframe tbody tr th {\n",
              "        vertical-align: top;\n",
              "    }\n",
              "\n",
              "    .dataframe thead th {\n",
              "        text-align: right;\n",
              "    }\n",
              "</style>\n",
              "<table border=\"1\" class=\"dataframe\">\n",
              "  <thead>\n",
              "    <tr style=\"text-align: right;\">\n",
              "      <th></th>\n",
              "      <th>eng</th>\n",
              "      <th>kor</th>\n",
              "      <th>delete</th>\n",
              "    </tr>\n",
              "  </thead>\n",
              "  <tbody>\n",
              "    <tr>\n",
              "      <th>0</th>\n",
              "      <td>Go.</td>\n",
              "      <td>가.</td>\n",
              "      <td>CC-BY 2.0 (France) Attribution: tatoeba.org #2...</td>\n",
              "    </tr>\n",
              "    <tr>\n",
              "      <th>1</th>\n",
              "      <td>Hi.</td>\n",
              "      <td>안녕.</td>\n",
              "      <td>CC-BY 2.0 (France) Attribution: tatoeba.org #5...</td>\n",
              "    </tr>\n",
              "    <tr>\n",
              "      <th>2</th>\n",
              "      <td>Run!</td>\n",
              "      <td>뛰어!</td>\n",
              "      <td>CC-BY 2.0 (France) Attribution: tatoeba.org #9...</td>\n",
              "    </tr>\n",
              "    <tr>\n",
              "      <th>3</th>\n",
              "      <td>Run.</td>\n",
              "      <td>뛰어.</td>\n",
              "      <td>CC-BY 2.0 (France) Attribution: tatoeba.org #4...</td>\n",
              "    </tr>\n",
              "    <tr>\n",
              "      <th>4</th>\n",
              "      <td>Who?</td>\n",
              "      <td>누구?</td>\n",
              "      <td>CC-BY 2.0 (France) Attribution: tatoeba.org #2...</td>\n",
              "    </tr>\n",
              "  </tbody>\n",
              "</table>\n",
              "</div>\n",
              "      <button class=\"colab-df-convert\" onclick=\"convertToInteractive('df-1bff70dc-1c29-4af2-8aee-20c94149f0ea')\"\n",
              "              title=\"Convert this dataframe to an interactive table.\"\n",
              "              style=\"display:none;\">\n",
              "        \n",
              "  <svg xmlns=\"http://www.w3.org/2000/svg\" height=\"24px\"viewBox=\"0 0 24 24\"\n",
              "       width=\"24px\">\n",
              "    <path d=\"M0 0h24v24H0V0z\" fill=\"none\"/>\n",
              "    <path d=\"M18.56 5.44l.94 2.06.94-2.06 2.06-.94-2.06-.94-.94-2.06-.94 2.06-2.06.94zm-11 1L8.5 8.5l.94-2.06 2.06-.94-2.06-.94L8.5 2.5l-.94 2.06-2.06.94zm10 10l.94 2.06.94-2.06 2.06-.94-2.06-.94-.94-2.06-.94 2.06-2.06.94z\"/><path d=\"M17.41 7.96l-1.37-1.37c-.4-.4-.92-.59-1.43-.59-.52 0-1.04.2-1.43.59L10.3 9.45l-7.72 7.72c-.78.78-.78 2.05 0 2.83L4 21.41c.39.39.9.59 1.41.59.51 0 1.02-.2 1.41-.59l7.78-7.78 2.81-2.81c.8-.78.8-2.07 0-2.86zM5.41 20L4 18.59l7.72-7.72 1.47 1.35L5.41 20z\"/>\n",
              "  </svg>\n",
              "      </button>\n",
              "      \n",
              "  <style>\n",
              "    .colab-df-container {\n",
              "      display:flex;\n",
              "      flex-wrap:wrap;\n",
              "      gap: 12px;\n",
              "    }\n",
              "\n",
              "    .colab-df-convert {\n",
              "      background-color: #E8F0FE;\n",
              "      border: none;\n",
              "      border-radius: 50%;\n",
              "      cursor: pointer;\n",
              "      display: none;\n",
              "      fill: #1967D2;\n",
              "      height: 32px;\n",
              "      padding: 0 0 0 0;\n",
              "      width: 32px;\n",
              "    }\n",
              "\n",
              "    .colab-df-convert:hover {\n",
              "      background-color: #E2EBFA;\n",
              "      box-shadow: 0px 1px 2px rgba(60, 64, 67, 0.3), 0px 1px 3px 1px rgba(60, 64, 67, 0.15);\n",
              "      fill: #174EA6;\n",
              "    }\n",
              "\n",
              "    [theme=dark] .colab-df-convert {\n",
              "      background-color: #3B4455;\n",
              "      fill: #D2E3FC;\n",
              "    }\n",
              "\n",
              "    [theme=dark] .colab-df-convert:hover {\n",
              "      background-color: #434B5C;\n",
              "      box-shadow: 0px 1px 3px 1px rgba(0, 0, 0, 0.15);\n",
              "      filter: drop-shadow(0px 1px 2px rgba(0, 0, 0, 0.3));\n",
              "      fill: #FFFFFF;\n",
              "    }\n",
              "  </style>\n",
              "\n",
              "      <script>\n",
              "        const buttonEl =\n",
              "          document.querySelector('#df-1bff70dc-1c29-4af2-8aee-20c94149f0ea button.colab-df-convert');\n",
              "        buttonEl.style.display =\n",
              "          google.colab.kernel.accessAllowed ? 'block' : 'none';\n",
              "\n",
              "        async function convertToInteractive(key) {\n",
              "          const element = document.querySelector('#df-1bff70dc-1c29-4af2-8aee-20c94149f0ea');\n",
              "          const dataTable =\n",
              "            await google.colab.kernel.invokeFunction('convertToInteractive',\n",
              "                                                     [key], {});\n",
              "          if (!dataTable) return;\n",
              "\n",
              "          const docLinkHtml = 'Like what you see? Visit the ' +\n",
              "            '<a target=\"_blank\" href=https://colab.research.google.com/notebooks/data_table.ipynb>data table notebook</a>'\n",
              "            + ' to learn more about interactive tables.';\n",
              "          element.innerHTML = '';\n",
              "          dataTable['output_type'] = 'display_data';\n",
              "          await google.colab.output.renderOutput(dataTable, element);\n",
              "          const docLink = document.createElement('div');\n",
              "          docLink.innerHTML = docLinkHtml;\n",
              "          element.appendChild(docLink);\n",
              "        }\n",
              "      </script>\n",
              "    </div>\n",
              "  </div>\n",
              "  "
            ]
          },
          "metadata": {},
          "execution_count": 2
        }
      ],
      "source": [
        "from google.colab import drive\n",
        "\n",
        "drive.mount('/content/drive')\n",
        "\n",
        "eng_kor = '/content/drive/My Drive/Data AI_BootCamp/DataSets/kor.txt'\n",
        "\n",
        "\n",
        "data = pd.read_csv(eng_kor, sep='\\t', header=None)\n",
        "data.columns=['eng', 'kor', 'delete']\n",
        "data.head(5)"
      ]
    },
    {
      "cell_type": "markdown",
      "source": [
        "Preprocessing"
      ],
      "metadata": {
        "id": "brJOuFBtoN05"
      }
    },
    {
      "cell_type": "code",
      "source": [
        "#Check for Missing Values\n",
        "data.isna().sum()"
      ],
      "metadata": {
        "colab": {
          "base_uri": "https://localhost:8080/"
        },
        "id": "pS-bEsF627Ua",
        "outputId": "73aa4145-30ee-453d-ecdf-6d6f7dba2d16"
      },
      "execution_count": 3,
      "outputs": [
        {
          "output_type": "execute_result",
          "data": {
            "text/plain": [
              "eng       0\n",
              "kor       0\n",
              "delete    0\n",
              "dtype: int64"
            ]
          },
          "metadata": {},
          "execution_count": 3
        }
      ]
    },
    {
      "cell_type": "code",
      "execution_count": 4,
      "metadata": {
        "id": "BLRSV0JSxL5r"
      },
      "outputs": [],
      "source": [
        "#Lowercase\n",
        "data['eng']= data['eng'].apply(lambda x: x.lower())\n",
        "data['kor']= data['kor'].apply(lambda x: x.lower())"
      ]
    },
    {
      "cell_type": "markdown",
      "source": [
        ""
      ],
      "metadata": {
        "id": "dqz7TfhooOz2"
      }
    },
    {
      "cell_type": "code",
      "execution_count": 5,
      "metadata": {
        "id": "NLyh554rvrCx",
        "colab": {
          "base_uri": "https://localhost:8080/"
        },
        "outputId": "d544561d-78b3-41c1-b051-6a09b7fcb02b"
      },
      "outputs": [
        {
          "output_type": "execute_result",
          "data": {
            "text/plain": [
              "(3798, 2)"
            ]
          },
          "metadata": {},
          "execution_count": 5
        }
      ],
      "source": [
        "data= data[['eng', 'kor']]\n",
        "data.shape"
      ]
    },
    {
      "cell_type": "code",
      "source": [
        "num_samples = 3798"
      ],
      "metadata": {
        "id": "ygTFjYxTOjBF"
      },
      "execution_count": 6,
      "outputs": []
    },
    {
      "cell_type": "code",
      "execution_count": 7,
      "metadata": {
        "id": "Kj2HebktuZ6X"
      },
      "outputs": [],
      "source": [
        "#Regex\n",
        "regex = r\"[^a-zA-Z0-9가-힣 ]\"\n",
        "\n",
        "#Substitute\n",
        "subst = \"\"\n"
      ]
    },
    {
      "cell_type": "code",
      "execution_count": 8,
      "metadata": {
        "id": "T7mRkSHyuTOg"
      },
      "outputs": [],
      "source": [
        "def preprocess(text):\n",
        "\n",
        "    tokens = re.sub(regex, subst, text)\n",
        "    \n",
        "    return tokens"
      ]
    },
    {
      "cell_type": "code",
      "source": [
        "def load_preprocessed_data():\n",
        "  encoder_input, decoder_input, decoder_target = [], [], []\n",
        "\n",
        "  with open(eng_kor, 'r') as lines:\n",
        "    for i, line in enumerate(lines):\n",
        "      src_line, tar_line, _ = line.strip().split('\\t')\n",
        "\n",
        "      src_line = [w for w in preprocess(src_line).split()]\n",
        "\n",
        "      tar_line = preprocess(tar_line)\n",
        "      tar_line_in = [w for w in ('<sos> ' + tar_line).split()]\n",
        "      tar_line_out = [w for w in (tar_line + ' <eos>').split()]\n",
        "\n",
        "      encoder_input.append(src_line)\n",
        "      decoder_input.append(tar_line_in)\n",
        "      decoder_target.append(tar_line_out)\n",
        "\n",
        "      if i == num_samples - 1:\n",
        "        break\n",
        "  return encoder_input, decoder_input, decoder_target"
      ],
      "metadata": {
        "id": "nR2vpyZiNGin"
      },
      "execution_count": 9,
      "outputs": []
    },
    {
      "cell_type": "code",
      "source": [
        "sents_en_in, sents_kor_in, sents_kor_out = load_preprocessed_data()\n",
        "print('Encoder Input :',sents_en_in[:5])\n",
        "print('Decoder Input :',sents_kor_in[:5])\n",
        "print('Decoder Label/Target :',sents_kor_out[:5])"
      ],
      "metadata": {
        "colab": {
          "base_uri": "https://localhost:8080/"
        },
        "id": "FFGmEiM5OzT3",
        "outputId": "0c661e7f-df27-4cc7-907a-1fb1a21f0584"
      },
      "execution_count": 10,
      "outputs": [
        {
          "output_type": "stream",
          "name": "stdout",
          "text": [
            "Encoder Input : [['Go'], ['Hi'], ['Run'], ['Run'], ['Who']]\n",
            "Decoder Input : [['<sos>', '가'], ['<sos>', '안녕'], ['<sos>', '뛰어'], ['<sos>', '뛰어'], ['<sos>', '누구']]\n",
            "Decoder Label/Target : [['가', '<eos>'], ['안녕', '<eos>'], ['뛰어', '<eos>'], ['뛰어', '<eos>'], ['누구', '<eos>']]\n"
          ]
        }
      ]
    },
    {
      "cell_type": "markdown",
      "source": [
        "Tokenizer/Embedding/Padding"
      ],
      "metadata": {
        "id": "nC7ow3FaoQmz"
      }
    },
    {
      "cell_type": "code",
      "execution_count": 11,
      "metadata": {
        "id": "Z1iA4pV-wxUm",
        "colab": {
          "base_uri": "https://localhost:8080/"
        },
        "outputId": "9c891469-c71b-4060-fab7-4b2a1de8a5cb"
      },
      "outputs": [
        {
          "output_type": "stream",
          "name": "stdout",
          "text": [
            "Encoder Input Shape : (3798, 101)\n",
            "Decoder Input Shape : (3798, 90)\n",
            "Decoder Label/Target Shape : (3798, 90)\n"
          ]
        }
      ],
      "source": [
        "tokenizer_en = Tokenizer(filters=\"\", lower=False)\n",
        "tokenizer_en.fit_on_texts(sents_en_in)\n",
        "encoder_input = tokenizer_en.texts_to_sequences(sents_en_in)\n",
        "encoder_input = pad_sequences(encoder_input, padding=\"post\")\n",
        "\n",
        "tokenizer_kor = Tokenizer(filters=\"\", lower=False)\n",
        "tokenizer_kor.fit_on_texts(sents_kor_in)\n",
        "tokenizer_kor.fit_on_texts(sents_kor_out)\n",
        "\n",
        "decoder_input = tokenizer_kor.texts_to_sequences(sents_kor_in)\n",
        "decoder_input = pad_sequences(decoder_input, padding=\"post\")\n",
        "\n",
        "decoder_target = tokenizer_kor.texts_to_sequences(sents_kor_out)\n",
        "decoder_target = pad_sequences(decoder_target, padding=\"post\")\n",
        "\n",
        "\n",
        "print('Encoder Input Shape :', encoder_input.shape)\n",
        "print('Decoder Input Shape :', decoder_input.shape)\n",
        "print('Decoder Label/Target Shape :', decoder_target.shape)"
      ]
    },
    {
      "cell_type": "code",
      "source": [
        "#Find Vocab Size\n",
        "src_vocab_size = len(tokenizer_en.word_index) + 1\n",
        "tar_vocab_size = len(tokenizer_kor.word_index) + 1\n",
        "print(\"English Vocab Size : {:d}, Korean Vocab size : {:d}\".format(src_vocab_size, tar_vocab_size))"
      ],
      "metadata": {
        "colab": {
          "base_uri": "https://localhost:8080/"
        },
        "id": "hSSORWKOQGlq",
        "outputId": "b8059666-665f-49c5-a187-d1848c51998a"
      },
      "execution_count": 12,
      "outputs": [
        {
          "output_type": "stream",
          "name": "stdout",
          "text": [
            "English Vocab Size : 2878, Korean Vocab size : 5769\n"
          ]
        }
      ]
    },
    {
      "cell_type": "code",
      "source": [
        "#Index src/tar in dictionary form--- for evaluation\n",
        "src_to_index = tokenizer_en.word_index\n",
        "index_to_src = tokenizer_en.index_word\n",
        "tar_to_index = tokenizer_kor.word_index\n",
        "index_to_tar = tokenizer_kor.index_word"
      ],
      "metadata": {
        "id": "vLwtOWsqQuGi"
      },
      "execution_count": 13,
      "outputs": []
    },
    {
      "cell_type": "code",
      "source": [
        "#Shuffle Data\n",
        "indices = np.arange(encoder_input.shape[0])\n",
        "np.random.shuffle(indices)\n",
        "print('Random Sequence :',indices)"
      ],
      "metadata": {
        "colab": {
          "base_uri": "https://localhost:8080/"
        },
        "id": "me-YLS5SQ0EG",
        "outputId": "4f3e2efd-68f6-41d4-f0b5-5f677638e417"
      },
      "execution_count": 14,
      "outputs": [
        {
          "output_type": "stream",
          "name": "stdout",
          "text": [
            "Random Sequence : [3343  734 3509 ...  898  980 2952]\n"
          ]
        }
      ]
    },
    {
      "cell_type": "code",
      "source": [
        "encoder_input = encoder_input[indices]\n",
        "decoder_input = decoder_input[indices]\n",
        "decoder_target = decoder_target[indices]"
      ],
      "metadata": {
        "id": "YmiFbJiXRMqm"
      },
      "execution_count": 15,
      "outputs": []
    },
    {
      "cell_type": "code",
      "source": [
        "val = int(num_samples*0.1)\n",
        "print('Number of Validation Set: ', val)"
      ],
      "metadata": {
        "colab": {
          "base_uri": "https://localhost:8080/"
        },
        "id": "NwuL1zbPRYaK",
        "outputId": "a5af7e3e-dfb7-4003-f196-6126bee44377"
      },
      "execution_count": 16,
      "outputs": [
        {
          "output_type": "stream",
          "name": "stdout",
          "text": [
            "Number of Validation Set:  379\n"
          ]
        }
      ]
    },
    {
      "cell_type": "code",
      "source": [
        "encoder_input_train = encoder_input[:-val]\n",
        "decoder_input_train = decoder_input[:-val]\n",
        "decoder_target_train = decoder_target[:-val]\n",
        "\n",
        "encoder_input_test = encoder_input[-val:]\n",
        "decoder_input_test = decoder_input[-val:]\n",
        "decoder_target_test = decoder_target[-val:]"
      ],
      "metadata": {
        "id": "7BkrfCGwSAoS"
      },
      "execution_count": 17,
      "outputs": []
    },
    {
      "cell_type": "code",
      "source": [
        "print(encoder_input_train.shape)\n",
        "print(decoder_input_train.shape)\n",
        "print(decoder_target_train.shape)\n",
        "print(encoder_input_test.shape)\n",
        "print(decoder_input_test.shape)\n",
        "print(decoder_target_test.shape)"
      ],
      "metadata": {
        "colab": {
          "base_uri": "https://localhost:8080/"
        },
        "id": "kRLK69J6SIQF",
        "outputId": "38e22559-d213-4131-e3f9-78ac69d3612d"
      },
      "execution_count": 18,
      "outputs": [
        {
          "output_type": "stream",
          "name": "stdout",
          "text": [
            "(3419, 101)\n",
            "(3419, 90)\n",
            "(3419, 90)\n",
            "(379, 101)\n",
            "(379, 90)\n",
            "(379, 90)\n"
          ]
        }
      ]
    },
    {
      "cell_type": "markdown",
      "source": [
        "Model"
      ],
      "metadata": {
        "id": "guyIqr2kSQkF"
      }
    },
    {
      "cell_type": "code",
      "source": [
        "embedding_dim = 64\n",
        "hidden_units = 64"
      ],
      "metadata": {
        "id": "WMKgonADSRxK"
      },
      "execution_count": 19,
      "outputs": []
    },
    {
      "cell_type": "code",
      "source": [
        "#Encoder\n",
        "encoder_inputs = Input(shape=(None,))\n",
        "enc_emb = Embedding(src_vocab_size, embedding_dim)(encoder_inputs) # 임베딩 층\n",
        "enc_masking = Masking(mask_value=0.0)(enc_emb) # 패딩 0은 연산에서 제외\n",
        "encoder_lstm = LSTM(hidden_units, return_state=True) # 상태값 리턴을 위해 return_state는 True\n",
        "encoder_outputs, state_h, state_c = encoder_lstm(enc_masking) # 은닉 상태와 셀 상태를 리턴\n",
        "encoder_states = [state_h, state_c] # 인코더의 은닉 상태와 셀 상태를 저장"
      ],
      "metadata": {
        "id": "6dcdDhZEyr5Z"
      },
      "execution_count": 20,
      "outputs": []
    },
    {
      "cell_type": "code",
      "source": [
        "# 디코더\n",
        "decoder_inputs = Input(shape=(None,))\n",
        "dec_emb_layer = Embedding(tar_vocab_size, hidden_units) # 임베딩 층\n",
        "dec_emb = dec_emb_layer(decoder_inputs) # 패딩 0은 연산에서 제외\n",
        "dec_masking = Masking(mask_value=0.0)(dec_emb)\n",
        "\n",
        "# 상태값 리턴을 위해 return_state는 True, 모든 시점에 대해서 단어를 예측하기 위해 return_sequences는 True\n",
        "decoder_lstm = LSTM(hidden_units, return_sequences=True, return_state=True) \n",
        "\n",
        "# 인코더의 은닉 상태를 초기 은닉 상태(initial_state)로 사용\n",
        "decoder_outputs, _, _ = decoder_lstm(dec_masking,\n",
        "                                     initial_state=encoder_states)\n",
        "\n",
        "# 모든 시점의 결과에 대해서 소프트맥스 함수를 사용한 출력층을 통해 단어 예측\n",
        "decoder_dense = Dense(tar_vocab_size, activation='softmax')\n",
        "decoder_outputs = decoder_dense(decoder_outputs)\n",
        "\n",
        "# 모델의 입력과 출력을 정의.\n",
        "model = Model([encoder_inputs, decoder_inputs], decoder_outputs)\n",
        "\n",
        "model.compile(optimizer='adam', loss='sparse_categorical_crossentropy', metrics=['acc'])"
      ],
      "metadata": {
        "id": "09arddSTQulE"
      },
      "execution_count": 21,
      "outputs": []
    },
    {
      "cell_type": "code",
      "source": [
        "model.fit(x=[encoder_input_train, decoder_input_train], y=decoder_target_train,\n",
        "          validation_data=([encoder_input_test, decoder_input_test], decoder_target_test),\n",
        "          batch_size=128, epochs=50)"
      ],
      "metadata": {
        "id": "VAx34XJMDFm9",
        "colab": {
          "base_uri": "https://localhost:8080/"
        },
        "outputId": "b89b92e4-bc28-4534-a37f-9632066d61d2"
      },
      "execution_count": 22,
      "outputs": [
        {
          "output_type": "stream",
          "name": "stdout",
          "text": [
            "Epoch 1/50\n",
            "27/27 [==============================] - 14s 154ms/step - loss: 7.9112 - acc: 0.8709 - val_loss: 6.0955 - val_acc: 0.9420\n",
            "Epoch 2/50\n",
            "27/27 [==============================] - 2s 60ms/step - loss: 3.7793 - acc: 0.9412 - val_loss: 1.5201 - val_acc: 0.9420\n",
            "Epoch 3/50\n",
            "27/27 [==============================] - 2s 60ms/step - loss: 0.8672 - acc: 0.9412 - val_loss: 0.5749 - val_acc: 0.9420\n",
            "Epoch 4/50\n",
            "27/27 [==============================] - 2s 60ms/step - loss: 0.5346 - acc: 0.9412 - val_loss: 0.5007 - val_acc: 0.9420\n",
            "Epoch 5/50\n",
            "27/27 [==============================] - 2s 60ms/step - loss: 0.4877 - acc: 0.9412 - val_loss: 0.4729 - val_acc: 0.9420\n",
            "Epoch 6/50\n",
            "27/27 [==============================] - 2s 60ms/step - loss: 0.4642 - acc: 0.9412 - val_loss: 0.4563 - val_acc: 0.9420\n",
            "Epoch 7/50\n",
            "27/27 [==============================] - 2s 60ms/step - loss: 0.4482 - acc: 0.9412 - val_loss: 0.4431 - val_acc: 0.9420\n",
            "Epoch 8/50\n",
            "27/27 [==============================] - 2s 61ms/step - loss: 0.4350 - acc: 0.9413 - val_loss: 0.4323 - val_acc: 0.9424\n",
            "Epoch 9/50\n",
            "27/27 [==============================] - 2s 61ms/step - loss: 0.4236 - acc: 0.9417 - val_loss: 0.4233 - val_acc: 0.9430\n",
            "Epoch 10/50\n",
            "27/27 [==============================] - 2s 59ms/step - loss: 0.4142 - acc: 0.9420 - val_loss: 0.4162 - val_acc: 0.9437\n",
            "Epoch 11/50\n",
            "27/27 [==============================] - 2s 60ms/step - loss: 0.4062 - acc: 0.9425 - val_loss: 0.4105 - val_acc: 0.9454\n",
            "Epoch 12/50\n",
            "27/27 [==============================] - 2s 61ms/step - loss: 0.3995 - acc: 0.9434 - val_loss: 0.4055 - val_acc: 0.9467\n",
            "Epoch 13/50\n",
            "27/27 [==============================] - 2s 60ms/step - loss: 0.3933 - acc: 0.9462 - val_loss: 0.4008 - val_acc: 0.9486\n",
            "Epoch 14/50\n",
            "27/27 [==============================] - 2s 60ms/step - loss: 0.3878 - acc: 0.9499 - val_loss: 0.3972 - val_acc: 0.9495\n",
            "Epoch 15/50\n",
            "27/27 [==============================] - 2s 60ms/step - loss: 0.3831 - acc: 0.9516 - val_loss: 0.3944 - val_acc: 0.9499\n",
            "Epoch 16/50\n",
            "27/27 [==============================] - 2s 60ms/step - loss: 0.3780 - acc: 0.9523 - val_loss: 0.3919 - val_acc: 0.9520\n",
            "Epoch 17/50\n",
            "27/27 [==============================] - 2s 60ms/step - loss: 0.3752 - acc: 0.9538 - val_loss: 0.3900 - val_acc: 0.9521\n",
            "Epoch 18/50\n",
            "27/27 [==============================] - 2s 61ms/step - loss: 0.3711 - acc: 0.9538 - val_loss: 0.3885 - val_acc: 0.9523\n",
            "Epoch 19/50\n",
            "27/27 [==============================] - 2s 61ms/step - loss: 0.3681 - acc: 0.9539 - val_loss: 0.3872 - val_acc: 0.9522\n",
            "Epoch 20/50\n",
            "27/27 [==============================] - 2s 61ms/step - loss: 0.3654 - acc: 0.9539 - val_loss: 0.3864 - val_acc: 0.9522\n",
            "Epoch 21/50\n",
            "27/27 [==============================] - 2s 61ms/step - loss: 0.3630 - acc: 0.9539 - val_loss: 0.3856 - val_acc: 0.9522\n",
            "Epoch 22/50\n",
            "27/27 [==============================] - 2s 60ms/step - loss: 0.3608 - acc: 0.9539 - val_loss: 0.3848 - val_acc: 0.9520\n",
            "Epoch 23/50\n",
            "27/27 [==============================] - 2s 63ms/step - loss: 0.3600 - acc: 0.9539 - val_loss: 0.3844 - val_acc: 0.9521\n",
            "Epoch 24/50\n",
            "27/27 [==============================] - 2s 62ms/step - loss: 0.3572 - acc: 0.9539 - val_loss: 0.3835 - val_acc: 0.9519\n",
            "Epoch 25/50\n",
            "27/27 [==============================] - 2s 64ms/step - loss: 0.3554 - acc: 0.9539 - val_loss: 0.3833 - val_acc: 0.9519\n",
            "Epoch 26/50\n",
            "27/27 [==============================] - 2s 61ms/step - loss: 0.3539 - acc: 0.9539 - val_loss: 0.3834 - val_acc: 0.9519\n",
            "Epoch 27/50\n",
            "27/27 [==============================] - 2s 60ms/step - loss: 0.3525 - acc: 0.9539 - val_loss: 0.3830 - val_acc: 0.9519\n",
            "Epoch 28/50\n",
            "27/27 [==============================] - 2s 60ms/step - loss: 0.3511 - acc: 0.9539 - val_loss: 0.3831 - val_acc: 0.9518\n",
            "Epoch 29/50\n",
            "27/27 [==============================] - 2s 60ms/step - loss: 0.3498 - acc: 0.9539 - val_loss: 0.3828 - val_acc: 0.9518\n",
            "Epoch 30/50\n",
            "27/27 [==============================] - 2s 60ms/step - loss: 0.3486 - acc: 0.9539 - val_loss: 0.3832 - val_acc: 0.9518\n",
            "Epoch 31/50\n",
            "27/27 [==============================] - 2s 60ms/step - loss: 0.3474 - acc: 0.9539 - val_loss: 0.3828 - val_acc: 0.9518\n",
            "Epoch 32/50\n",
            "27/27 [==============================] - 2s 61ms/step - loss: 0.3463 - acc: 0.9539 - val_loss: 0.3829 - val_acc: 0.9517\n",
            "Epoch 33/50\n",
            "27/27 [==============================] - 2s 62ms/step - loss: 0.3451 - acc: 0.9539 - val_loss: 0.3830 - val_acc: 0.9517\n",
            "Epoch 34/50\n",
            "27/27 [==============================] - 2s 60ms/step - loss: 0.3441 - acc: 0.9539 - val_loss: 0.3835 - val_acc: 0.9517\n",
            "Epoch 35/50\n",
            "27/27 [==============================] - 2s 60ms/step - loss: 0.3430 - acc: 0.9539 - val_loss: 0.3831 - val_acc: 0.9518\n",
            "Epoch 36/50\n",
            "27/27 [==============================] - 2s 61ms/step - loss: 0.3420 - acc: 0.9539 - val_loss: 0.3834 - val_acc: 0.9518\n",
            "Epoch 37/50\n",
            "27/27 [==============================] - 2s 60ms/step - loss: 0.3410 - acc: 0.9539 - val_loss: 0.3833 - val_acc: 0.9517\n",
            "Epoch 38/50\n",
            "27/27 [==============================] - 2s 60ms/step - loss: 0.3399 - acc: 0.9540 - val_loss: 0.3833 - val_acc: 0.9518\n",
            "Epoch 39/50\n",
            "27/27 [==============================] - 2s 60ms/step - loss: 0.3389 - acc: 0.9540 - val_loss: 0.3829 - val_acc: 0.9517\n",
            "Epoch 40/50\n",
            "27/27 [==============================] - 2s 61ms/step - loss: 0.3378 - acc: 0.9540 - val_loss: 0.3831 - val_acc: 0.9517\n",
            "Epoch 41/50\n",
            "27/27 [==============================] - 2s 60ms/step - loss: 0.3368 - acc: 0.9540 - val_loss: 0.3829 - val_acc: 0.9517\n",
            "Epoch 42/50\n",
            "27/27 [==============================] - 2s 61ms/step - loss: 0.3358 - acc: 0.9541 - val_loss: 0.3830 - val_acc: 0.9517\n",
            "Epoch 43/50\n",
            "27/27 [==============================] - 2s 60ms/step - loss: 0.3348 - acc: 0.9541 - val_loss: 0.3832 - val_acc: 0.9517\n",
            "Epoch 44/50\n",
            "27/27 [==============================] - 2s 60ms/step - loss: 0.3338 - acc: 0.9542 - val_loss: 0.3832 - val_acc: 0.9518\n",
            "Epoch 45/50\n",
            "27/27 [==============================] - 2s 61ms/step - loss: 0.3328 - acc: 0.9543 - val_loss: 0.3832 - val_acc: 0.9520\n",
            "Epoch 46/50\n",
            "27/27 [==============================] - 2s 62ms/step - loss: 0.3317 - acc: 0.9544 - val_loss: 0.3832 - val_acc: 0.9520\n",
            "Epoch 47/50\n",
            "27/27 [==============================] - 2s 60ms/step - loss: 0.3307 - acc: 0.9545 - val_loss: 0.3833 - val_acc: 0.9520\n",
            "Epoch 48/50\n",
            "27/27 [==============================] - 2s 60ms/step - loss: 0.3297 - acc: 0.9545 - val_loss: 0.3836 - val_acc: 0.9521\n",
            "Epoch 49/50\n",
            "27/27 [==============================] - 2s 60ms/step - loss: 0.3288 - acc: 0.9547 - val_loss: 0.3836 - val_acc: 0.9523\n",
            "Epoch 50/50\n",
            "27/27 [==============================] - 2s 60ms/step - loss: 0.3278 - acc: 0.9548 - val_loss: 0.3839 - val_acc: 0.9522\n"
          ]
        },
        {
          "output_type": "execute_result",
          "data": {
            "text/plain": [
              "<keras.callbacks.History at 0x7f47112254d0>"
            ]
          },
          "metadata": {},
          "execution_count": 22
        }
      ]
    },
    {
      "cell_type": "code",
      "source": [
        "# 인코더\n",
        "encoder_model = Model(encoder_inputs, encoder_states)\n",
        "\n",
        "# 디코더 설계 시작\n",
        "# 이전 시점의 상태를 보관할 텐서\n",
        "decoder_state_input_h = Input(shape=(hidden_units,))\n",
        "decoder_state_input_c = Input(shape=(hidden_units,))\n",
        "decoder_states_inputs = [decoder_state_input_h, decoder_state_input_c]\n",
        "\n",
        "# 훈련 때 사용했던 임베딩 층을 재사용\n",
        "dec_emb2 = dec_emb_layer(decoder_inputs)\n",
        "\n",
        "# 다음 단어 예측을 위해 이전 시점의 상태를 현 시점의 초기 상태로 사용\n",
        "decoder_outputs2, state_h2, state_c2 = decoder_lstm(dec_emb2, initial_state=decoder_states_inputs)\n",
        "decoder_states2 = [state_h2, state_c2]\n",
        "\n",
        "# 모든 시점에 대해서 단어 예측\n",
        "decoder_outputs2 = decoder_dense(decoder_outputs2)\n",
        "\n",
        "# 수정된 디코더\n",
        "decoder_model = Model(\n",
        "    [decoder_inputs] + decoder_states_inputs,\n",
        "    [decoder_outputs2] + decoder_states2)"
      ],
      "metadata": {
        "id": "tuMy5wyDf3iq"
      },
      "execution_count": 23,
      "outputs": []
    },
    {
      "cell_type": "code",
      "source": [
        "def decode_sequence(input_seq):\n",
        "  # 입력으로부터 인코더의 마지막 시점의 상태(은닉 상태, 셀 상태)를 얻음\n",
        "  states_value = encoder_model.predict(input_seq)\n",
        "\n",
        "  # <SOS>에 해당하는 정수 생성\n",
        "  target_seq = np.zeros((1,1))\n",
        "  target_seq[0, 0] = tar_to_index['<sos>']\n",
        "\n",
        "  stop_condition = False\n",
        "  decoded_sentence = ''\n",
        "\n",
        "  # stop_condition이 True가 될 때까지 루프 반복\n",
        "  # 구현의 간소화를 위해서 이 함수는 배치 크기를 1로 가정합니다.\n",
        "  while not stop_condition:\n",
        "    # 이점 시점의 상태 states_value를 현 시점의 초기 상태로 사용\n",
        "    output_tokens, h, c = decoder_model.predict([target_seq] + states_value)\n",
        "\n",
        "    # 예측 결과를 단어로 변환\n",
        "    sampled_token_index = np.argmax(output_tokens[0, -1, :])\n",
        "    sampled_char = index_to_tar[sampled_token_index]\n",
        "\n",
        "    # 현재 시점의 예측 단어를 예측 문장에 추가\n",
        "    decoded_sentence += ' '+sampled_char\n",
        "\n",
        "    # <eos>에 도달하거나 정해진 길이를 넘으면 중단.\n",
        "    if (sampled_char == '<eos>' or\n",
        "        len(decoded_sentence) > 50):\n",
        "        stop_condition = True\n",
        "\n",
        "    # 현재 시점의 예측 결과를 다음 시점의 입력으로 사용하기 위해 저장\n",
        "    target_seq = np.zeros((1,1))\n",
        "    target_seq[0, 0] = sampled_token_index\n",
        "\n",
        "    # 현재 시점의 상태를 다음 시점의 상태로 사용하기 위해 저장\n",
        "    states_value = [h, c]\n",
        "\n",
        "  return decoded_sentence"
      ],
      "metadata": {
        "id": "N0stqH-If9cU"
      },
      "execution_count": 24,
      "outputs": []
    },
    {
      "cell_type": "code",
      "source": [
        "# 원문의 정수 시퀀스를 텍스트 시퀀스로 변환\n",
        "def seq_to_src(input_seq):\n",
        "  sentence = ''\n",
        "  for encoded_word in input_seq:\n",
        "    if(encoded_word != 0):\n",
        "      sentence = sentence + index_to_src[encoded_word] + ' '\n",
        "  return sentence\n",
        "\n",
        "# 번역문의 정수 시퀀스를 텍스트 시퀀스로 변환\n",
        "def seq_to_tar(input_seq):\n",
        "  sentence = ''\n",
        "  for encoded_word in input_seq:\n",
        "    if(encoded_word != 0 and encoded_word != tar_to_index['<sos>'] and encoded_word != tar_to_index['<eos>']):\n",
        "      sentence = sentence + index_to_tar[encoded_word] + ' '\n",
        "  return sentence"
      ],
      "metadata": {
        "id": "u8XW6Lh_gAEU"
      },
      "execution_count": 25,
      "outputs": []
    },
    {
      "cell_type": "code",
      "source": [
        "for seq_index in [3, 50, 100, 300, 1001]:\n",
        "  input_seq = encoder_input_train[seq_index: seq_index + 1]\n",
        "  decoded_sentence = decode_sequence(input_seq)\n",
        "\n",
        "  print(\"입력문장 :\",seq_to_src(encoder_input_train[seq_index]))\n",
        "  print(\"정답문장 :\",seq_to_tar(decoder_input_train[seq_index]))\n",
        "  print(\"번역문장 :\",decoded_sentence[1:-5])\n",
        "  print(\"-\"*50)"
      ],
      "metadata": {
        "colab": {
          "base_uri": "https://localhost:8080/"
        },
        "id": "noiVb-tHgChP",
        "outputId": "39f98008-2db1-496a-ad9f-20327265d468"
      },
      "execution_count": 30,
      "outputs": [
        {
          "output_type": "stream",
          "name": "stdout",
          "text": [
            "입력문장 : Tom has a learning disorder \n",
            "정답문장 : 톰은 학습 장애가 있어 \n",
            "번역문장 : 톰은 톰이 좀 있어 \n",
            "--------------------------------------------------\n",
            "입력문장 : Im taking a shower right now \n",
            "정답문장 : 난 지금 샤워하고 있어 \n",
            "번역문장 : 톰은 톰이 좀 있어 \n",
            "--------------------------------------------------\n",
            "입력문장 : Tom shrugged \n",
            "정답문장 : 톰이 어깨를 으쓱했어 \n",
            "번역문장 : 톰은 톰이 좀 있어 \n",
            "--------------------------------------------------\n",
            "입력문장 : Tom is taking baby steps \n",
            "정답문장 : 톰은 걸음마를 하고 있어 \n",
            "번역문장 : 톰은 톰이 좀 있어 \n",
            "--------------------------------------------------\n",
            "입력문장 : Tom has no social skills \n",
            "정답문장 : 톰은 눈치가 없어 \n",
            "번역문장 : 톰은 톰이 좀 있어 \n",
            "--------------------------------------------------\n"
          ]
        }
      ]
    }
  ],
  "metadata": {
    "accelerator": "GPU",
    "colab": {
      "name": "Machine Translation Project 1.0.ipynb",
      "provenance": [],
      "collapsed_sections": [],
      "machine_shape": "hm",
      "include_colab_link": true
    },
    "kernelspec": {
      "display_name": "Python 3",
      "language": "python",
      "name": "python3"
    },
    "language_info": {
      "codemirror_mode": {
        "name": "ipython",
        "version": 3
      },
      "file_extension": ".py",
      "mimetype": "text/x-python",
      "name": "python",
      "nbconvert_exporter": "python",
      "pygments_lexer": "ipython3",
      "version": "3.7.4"
    },
    "toc": {
      "base_numbering": 1,
      "nav_menu": {},
      "number_sections": true,
      "sideBar": true,
      "skip_h1_title": false,
      "title_cell": "Table of Contents",
      "title_sidebar": "Contents",
      "toc_cell": false,
      "toc_position": {},
      "toc_section_display": true,
      "toc_window_display": false
    }
  },
  "nbformat": 4,
  "nbformat_minor": 0
}